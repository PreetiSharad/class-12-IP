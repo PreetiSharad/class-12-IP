{
 "cells": [
  {
   "cell_type": "code",
   "execution_count": 5,
   "metadata": {},
   "outputs": [
    {
     "name": "stdout",
     "output_type": "stream",
     "text": [
      "1,3,5,7,9,11,13,"
     ]
    }
   ],
   "source": [
    "a= 10\n",
    "for i in range(1,a+5,2):\n",
    "    print(i, end=\",\")"
   ]
  },
  {
   "cell_type": "code",
   "execution_count": 10,
   "metadata": {},
   "outputs": [
    {
     "name": "stdout",
     "output_type": "stream",
     "text": [
      "10\n",
      "bye\n",
      "8\n",
      "bye\n",
      "6\n",
      "bye\n",
      "4\n",
      "bye\n",
      "2\n",
      "bye\n",
      "thank you\n"
     ]
    }
   ],
   "source": [
    "n= 10\n",
    "for i in range(n,1,-2):\n",
    "    print(i)\n",
    "    print(\"bye\")\n",
    "print(\"thank you\")"
   ]
  },
  {
   "cell_type": "code",
   "execution_count": 15,
   "metadata": {},
   "outputs": [
    {
     "name": "stdout",
     "output_type": "stream",
     "text": [
      "hello\n",
      "hello\n",
      "bye\n",
      "hello\n",
      "hello\n",
      "bye\n"
     ]
    }
   ],
   "source": [
    "for x in range(2):\n",
    "    for i in range(10,12):\n",
    "        print(\"hello\")\n",
    "    print(\"bye\")"
   ]
  },
  {
   "cell_type": "code",
   "execution_count": 18,
   "metadata": {},
   "outputs": [
    {
     "name": "stdout",
     "output_type": "stream",
     "text": [
      "a    22\n",
      "b    24\n",
      "c    26\n",
      "d    28\n",
      "e    30\n",
      "dtype: int64\n"
     ]
    }
   ],
   "source": [
    "import pandas as pd\n",
    "l1=[11,12,13,14,15]\n",
    "S1=pd.Series(l1,index=['a','b','c','d','e'])\n",
    "print(S1*2)"
   ]
  },
  {
   "cell_type": "code",
   "execution_count": 29,
   "metadata": {},
   "outputs": [
    {
     "name": "stdout",
     "output_type": "stream",
     "text": [
      "     Name  age      dept  salary\n",
      "b   Gagan   25     sales   45000\n",
      "c  Tushar   27  purchase   55000\n"
     ]
    }
   ],
   "source": [
    "import pandas as pd\n",
    "d1={'Name':[\"Amita\",\"Gagan\",\"Tushar\"],\n",
    "    \"age\":[23,25,27],\"dept\":[\"admin\",\"sales\",\"purchase\"],\n",
    "    \"salary\":[23000,45000,55000]}\n",
    "df=pd.DataFrame(d1,index=['a','b','c'])\n",
    "print(df[1:3])"
   ]
  },
  {
   "cell_type": "code",
   "execution_count": 34,
   "metadata": {},
   "outputs": [
    {
     "name": "stdout",
     "output_type": "stream",
     "text": [
      "   pid pname  price  qty\n",
      "0  101   tea    435   28\n",
      "1  102  soap    235   23\n"
     ]
    }
   ],
   "source": [
    "import pandas as pd\n",
    "l1=[101,'tea',435,28]\n",
    "l2=[102,'soap',235,23]\n",
    "df=pd.DataFrame([l1,l2], columns=[\"pid\",'pname','price',\"qty\"])\n",
    "print(df)"
   ]
  },
  {
   "cell_type": "code",
   "execution_count": 3,
   "metadata": {},
   "outputs": [
    {
     "name": "stdout",
     "output_type": "stream",
     "text": [
      "   price1  price2  price3  price4\n",
      "0  100.00   200.0   300.0   400.0\n",
      "1   17.55    22.7    13.4    61.7\n"
     ]
    }
   ],
   "source": [
    "import pandas as pd\n",
    "import numpy as np\n",
    "na1=np.array([100,200,300,400])\n",
    "na2=np.array([17.55,22.7,13.4,61.7])\n",
    "na3=np.array([7,14,25,37])\n",
    "df2=pd.DataFrame([na1,na2], columns=['price1','price2','price3','price4'])\n",
    "print(df2)"
   ]
  },
  {
   "cell_type": "code",
   "execution_count": 6,
   "metadata": {},
   "outputs": [
    {
     "name": "stdout",
     "output_type": "stream",
     "text": [
      "Rajendra    35\n",
      "Sheena      46\n",
      "Tiksha      36\n",
      "Arjun       34\n",
      "dtype: int64\n"
     ]
    }
   ],
   "source": [
    "import pandas as pd\n",
    "S1=pd.Series([34,36,46,35],index=['Arjun','Tiksha','Sheena','Rajendra'])\n",
    "print(S1[::-1])"
   ]
  },
  {
   "cell_type": "code",
   "execution_count": 2,
   "metadata": {},
   "outputs": [
    {
     "name": "stdout",
     "output_type": "stream",
     "text": [
      "            pname  price  discount\n",
      "pr401       brush    158        45\n",
      "pr402  toothpaste     78        20\n",
      "pr403        soap     74        15\n",
      "pr404         tea    345        54\n"
     ]
    }
   ],
   "source": [
    "import pandas as pd\n",
    "ld = [{'pname':'brush','price':158,'discount':45},{'pname':'toothpaste','price':78,'discount':20},{'pname':'soap','price':74,'discount':15}]\n",
    "d1=pd.DataFrame(ld,index=['401','402','403'])\n",
    "d1.loc['404']=['tea',345,54]   # row is added\n",
    "d3=d1.rename({'401':'pr401','402': 'pr402','403': 'pr403','404': 'pr404'},axis=0)\n",
    "print(d3)\n"
   ]
  },
  {
   "cell_type": "code",
   "execution_count": 5,
   "metadata": {},
   "outputs": [
    {
     "name": "stdout",
     "output_type": "stream",
     "text": [
      "        Ram  Tejas  Arvind  Shagun  Rajesh\n",
      "UT1      19     16      14      12      17\n",
      "Term 1   78     89      90      68      82\n",
      "UT2      18     18      12      14      19\n",
      "Term 2   88     79      93      60      92\n"
     ]
    }
   ],
   "source": [
    "import pandas as pd\n",
    "l1=[{'Ram': 19,'Tejas': 16,'Arvind':14,'Shagun':12,'Rajesh':17},{'Ram': 78,'Tejas': 89,'Arvind':90,'Shagun':68,'Rajesh':82},\n",
    "    {'Ram': 18,'Tejas': 18,'Arvind':12,'Shagun':14,'Rajesh':19},{'Ram': 88,'Tejas': 79,'Arvind':93,'Shagun':60,'Rajesh':92}]\n",
    "df3=pd.DataFrame(l1,index=['UT1','Term 1','UT2','Term 2'])\n",
    "print(df3)"
   ]
  },
  {
   "cell_type": "code",
   "execution_count": 18,
   "metadata": {},
   "outputs": [
    {
     "name": "stdout",
     "output_type": "stream",
     "text": [
      "jan    42500\n",
      "feb    35500\n",
      "mar    25000\n",
      "apr    51000\n",
      "may    42000\n",
      "Name: expenditure1, dtype: int32\n"
     ]
    }
   ],
   "source": [
    "import pandas as pd\n",
    "import numpy as np\n",
    "data = np.array([42500,35500,25000,51000,42000])\n",
    "s1 = pd.Series(data,index=['jan','feb','mar','apr','may'], name=\"expenditure1\")\n",
    "print(s1)"
   ]
  },
  {
   "cell_type": "code",
   "execution_count": 21,
   "metadata": {},
   "outputs": [
    {
     "name": "stdout",
     "output_type": "stream",
     "text": [
      "jan    87500\n",
      "mar    45500\n",
      "apr    32000\n",
      "jun    66000\n",
      "jul    89000\n",
      "Name: expenditure2, dtype: int32\n"
     ]
    }
   ],
   "source": [
    "import pandas as pd\n",
    "import numpy as np\n",
    "data = np.array([87500,45500,32000,66000,89000])\n",
    "s2 = pd.Series(data,index=['jan','mar','apr','jun','jul'], name=\"expenditure2\")\n",
    "print(s2)"
   ]
  },
  {
   "cell_type": "code",
   "execution_count": 22,
   "metadata": {},
   "outputs": [
    {
     "name": "stdout",
     "output_type": "stream",
     "text": [
      "jan    130000.0\n",
      "feb         NaN\n",
      "mar     70500.0\n",
      "apr     83000.0\n",
      "may         NaN\n",
      "jun         NaN\n",
      "jul         NaN\n",
      "dtype: float64\n"
     ]
    }
   ],
   "source": [
    "s3=s1+s2\n",
    "print(s3.reindex(index=['jan','feb','mar','apr','may','jun','jul']))"
   ]
  },
  {
   "cell_type": "code",
   "execution_count": 24,
   "metadata": {},
   "outputs": [
    {
     "name": "stdout",
     "output_type": "stream",
     "text": [
      "may         NaN\n",
      "mar     70500.0\n",
      "jun         NaN\n",
      "jul         NaN\n",
      "jan    130000.0\n",
      "feb         NaN\n",
      "apr     83000.0\n",
      "dtype: float64\n"
     ]
    }
   ],
   "source": [
    "print(s3[::-1])"
   ]
  },
  {
   "cell_type": "code",
   "execution_count": 25,
   "metadata": {},
   "outputs": [
    {
     "name": "stdout",
     "output_type": "stream",
     "text": [
      "        Ram  Tejas\n",
      "UT1      19     16\n",
      "Term 1   78     89\n",
      "UT2      18     18\n",
      "Term 2   88     79\n"
     ]
    }
   ],
   "source": [
    "l1=[{'Ram': 19,'Tejas': 16},{'Ram': 78,'Tejas': 89},{'Ram': 18,'Tejas': 18},{'Ram': 88,'Tejas': 79}]\n",
    "df3=pd.DataFrame(l1,index=['UT1','Term 1','UT2','Term 2'])\n",
    "print(df3)"
   ]
  },
  {
   "cell_type": "code",
   "execution_count": 6,
   "metadata": {},
   "outputs": [
    {
     "name": "stdout",
     "output_type": "stream",
     "text": [
      "x is less than y\n"
     ]
    }
   ],
   "source": [
    "x,y=5,7\n",
    "if (x==y):\n",
    "    print(\"x and y are equal\")\n",
    "elif (x<y):\n",
    "    print(\"x is less than y\")\n",
    "else:\n",
    "    print(\"y is less than x\")\n"
   ]
  },
  {
   "cell_type": "code",
   "execution_count": null,
   "metadata": {},
   "outputs": [],
   "source": []
  }
 ],
 "metadata": {
  "kernelspec": {
   "display_name": "Python 3 (ipykernel)",
   "language": "python",
   "name": "python3"
  },
  "language_info": {
   "codemirror_mode": {
    "name": "ipython",
    "version": 3
   },
   "file_extension": ".py",
   "mimetype": "text/x-python",
   "name": "python",
   "nbconvert_exporter": "python",
   "pygments_lexer": "ipython3",
   "version": "3.11.5"
  }
 },
 "nbformat": 4,
 "nbformat_minor": 4
}
